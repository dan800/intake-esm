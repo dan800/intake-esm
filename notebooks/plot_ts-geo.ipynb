{
 "cells": [
  {
   "cell_type": "markdown",
   "id": "2e741553-7da5-45e0-abde-a1ea8a383354",
   "metadata": {},
   "source": [
    "## Import\n",
    "Use elements of the scientific python stack"
   ]
  },
  {
   "cell_type": "code",
   "execution_count": 11,
   "id": "75695eb9-834f-49e0-b736-99f69a89be68",
   "metadata": {
    "tags": []
   },
   "outputs": [],
   "source": [
    "from matplotlib import pyplot as plt\n",
    "import numpy as np\n",
    "import xarray as xr\n",
    "\n",
    "# Import a client\n",
    "from dask.distributed import Client\n",
    "\n",
    "# Import intake-esm\n",
    "import intake\n",
    "\n",
    "import util\n",
    "from util import global_mean\n",
    "\n",
    "import cf_xarray"
   ]
  },
  {
   "cell_type": "markdown",
   "id": "217c8006-7c21-4b9c-809d-99772a1182c1",
   "metadata": {},
   "source": [
    "## Setup a PBSCluster\n",
    "Speed up processing with DASK with 8 threads"
   ]
  },
  {
   "cell_type": "code",
   "execution_count": 2,
   "id": "bce4063c-8a93-47b8-85b8-b0e67c2e8633",
   "metadata": {},
   "outputs": [
    {
     "name": "stderr",
     "output_type": "stream",
     "text": [
      "/glade/work/marsh/miniconda3/envs/default/lib/python3.9/site-packages/distributed/node.py:160: UserWarning: Port 8787 is already in use.\n",
      "Perhaps you already have a cluster running?\n",
      "Hosting the HTTP server on port 44278 instead\n",
      "  warnings.warn(\n"
     ]
    },
    {
     "data": {
      "text/html": [
       "\n",
       "            <div>\n",
       "                <div style=\"\n",
       "                    width: 24px;\n",
       "                    height: 24px;\n",
       "                    background-color: #e1e1e1;\n",
       "                    border: 3px solid #9D9D9D;\n",
       "                    border-radius: 5px;\n",
       "                    position: absolute;\"> </div>\n",
       "                <div style=\"margin-left: 48px;\">\n",
       "                    <h3 style=\"margin-bottom: 0px;\">Client</h3>\n",
       "                    <p style=\"color: #9D9D9D; margin-bottom: 0px;\">Client-d16ac43b-e8c1-11eb-aea0-3cecef1acb68</p>\n",
       "                    <table style=\"width: 100%; text-align: left;\">\n",
       "                    \n",
       "                <tr>\n",
       "                    <td style=\"text-align: left;\"><strong>Connection method:</strong> Cluster object</td>\n",
       "                    <td style=\"text-align: left;\"><strong>Cluster type:</strong> PBSCluster</td>\n",
       "                </tr>\n",
       "                \n",
       "                <tr>\n",
       "                    <td style=\"text-align: left;\">\n",
       "                        <strong>Dashboard: </strong>\n",
       "                        <a href=\"https://jupyterhub.hpc.ucar.edu/stable/user/marsh/proxy/44278/status\">https://jupyterhub.hpc.ucar.edu/stable/user/marsh/proxy/44278/status</a>\n",
       "                    </td>\n",
       "                    <td style=\"text-align: left;\"></td>\n",
       "                </tr>\n",
       "                \n",
       "                    </table>\n",
       "                    \n",
       "                <details>\n",
       "                <summary style=\"margin-bottom: 20px;\"><h3 style=\"display: inline;\">Cluster Info</h3></summary>\n",
       "                \n",
       "            <div class=\"jp-RenderedHTMLCommon jp-RenderedHTML jp-mod-trusted jp-OutputArea-output\">\n",
       "                <div style=\"\n",
       "                    width: 24px;\n",
       "                    height: 24px;\n",
       "                    background-color: #e1e1e1;\n",
       "                    border: 3px solid #9D9D9D;\n",
       "                    border-radius: 5px;\n",
       "                    position: absolute;\"> </div>\n",
       "                <div style=\"margin-left: 48px;\">\n",
       "                    <h3 style=\"margin-bottom: 0px; margin-top: 0px;\">PBSCluster</h3>\n",
       "                    <p style=\"color: #9D9D9D; margin-bottom: 0px;\">ed1416f4</p>\n",
       "                    <table style=\"width: 100%; text-align: left;\">\n",
       "                    \n",
       "            <tr>\n",
       "                <td style=\"text-align: left;\">\n",
       "                    <strong>Dashboard:</strong> <a href=\"https://jupyterhub.hpc.ucar.edu/stable/user/marsh/proxy/44278/status\">https://jupyterhub.hpc.ucar.edu/stable/user/marsh/proxy/44278/status</a>\n",
       "                </td>\n",
       "                <td style=\"text-align: left;\"><strong>Workers:</strong> 0</td>\n",
       "            </tr>\n",
       "            <tr>\n",
       "                <td style=\"text-align: left;\">\n",
       "                    <strong>Total threads:</strong>\n",
       "                    0\n",
       "                </td>\n",
       "                <td style=\"text-align: left;\">\n",
       "                    <strong>Total memory:</strong>\n",
       "                    0 B\n",
       "                </td>\n",
       "            </tr>\n",
       "        \n",
       "                    </table>\n",
       "                    <details>\n",
       "                    <summary style=\"margin-bottom: 20px;\"><h3 style=\"display: inline;\">Scheduler Info</h3></summary>\n",
       "                    \n",
       "        <div style=\"\">\n",
       "            \n",
       "            <div>\n",
       "                <div style=\"\n",
       "                    width: 24px;\n",
       "                    height: 24px;\n",
       "                    background-color: #FFF7E5;\n",
       "                    border: 3px solid #FF6132;\n",
       "                    border-radius: 5px;\n",
       "                    position: absolute;\"> </div>\n",
       "                <div style=\"margin-left: 48px;\">\n",
       "                    <h3 style=\"margin-bottom: 0px;\">Scheduler</h3>\n",
       "                    <p style=\"color: #9D9D9D; margin-bottom: 0px;\">Scheduler-f6c913d5-0f3c-4768-a37a-83e3be258fca</p>\n",
       "                    <table style=\"width: 100%; text-align: left;\">\n",
       "                        <tr>\n",
       "                            <td style=\"text-align: left;\"><strong>Comm:</strong> tcp://10.12.206.46:41304</td>\n",
       "                            <td style=\"text-align: left;\"><strong>Workers:</strong> 0</td>\n",
       "                        </tr>\n",
       "                        <tr>\n",
       "                            <td style=\"text-align: left;\">\n",
       "                                <strong>Dashboard:</strong> <a href=\"https://jupyterhub.hpc.ucar.edu/stable/user/marsh/proxy/44278/status\">https://jupyterhub.hpc.ucar.edu/stable/user/marsh/proxy/44278/status</a>\n",
       "                            </td>\n",
       "                            <td style=\"text-align: left;\">\n",
       "                                <strong>Total threads:</strong>\n",
       "                                0\n",
       "                            </td>\n",
       "                        </tr>\n",
       "                        <tr>\n",
       "                            <td style=\"text-align: left;\">\n",
       "                                <strong>Started:</strong>\n",
       "                                Just now\n",
       "                            </td>\n",
       "                            <td style=\"text-align: left;\">\n",
       "                                <strong>Total memory:</strong>\n",
       "                                0 B\n",
       "                            </td>\n",
       "                        </tr>\n",
       "                    </table>\n",
       "                </div>\n",
       "            </div>\n",
       "        \n",
       "            <details style=\"margin-left: 48px;\">\n",
       "            <summary style=\"margin-bottom: 20px;\"><h3 style=\"display: inline;\">Workers</h3></summary>\n",
       "            \n",
       "            </details>\n",
       "        </div>\n",
       "        \n",
       "                    </details>\n",
       "                </div>\n",
       "            </div>\n",
       "        \n",
       "                </details>\n",
       "                \n",
       "                </div>\n",
       "            </div>\n",
       "        "
      ],
      "text/plain": [
       "<Client: 'tcp://10.12.206.46:41304' processes=0 threads=0, memory=0 B>"
      ]
     },
     "execution_count": 2,
     "metadata": {},
     "output_type": "execute_result"
    }
   ],
   "source": [
    "cluster = util.get_pbscluster(8)\n",
    "# Setup your client\n",
    "client = Client(cluster)\n",
    "client"
   ]
  },
  {
   "cell_type": "markdown",
   "id": "b60eb34b-7958-4432-8320-b70ed5e76368",
   "metadata": {},
   "source": [
    "## Open a catalog\n",
    "Look for monthly reference height temperature"
   ]
  },
  {
   "cell_type": "code",
   "execution_count": 3,
   "id": "c20b2425-79df-4f6b-acc3-38cf92623369",
   "metadata": {},
   "outputs": [
    {
     "name": "stdout",
     "output_type": "stream",
     "text": [
      "dict_keys(['atm.cam.h0.b.e21.BW.f09_g17.SSP245-TSMLT-GAUSS-DEFAULT.001', 'atm.cam.h0.b.e21.BW.f09_g17.SSP245-TSMLT-GAUSS-DEFAULT.002', 'atm.cam.h0.b.e21.BW.f09_g17.SSP245-TSMLT-GAUSS-DEFAULT.003', 'atm.cam.h0.b.e21.BW.f09_g17.SSP245-TSMLT-GAUSS-DEFAULT.004', 'atm.cam.h0.b.e21.BW.f09_g17.SSP245-TSMLT-GAUSS-DEFAULT.005'])\n"
     ]
    }
   ],
   "source": [
    "intake_catalog = \"/glade/work/marsh/intake-esm-catalogs/WACCM6-TSMLT-GEO-SAI1.json\"\n",
    "\n",
    "cat = intake.open_esm_datastore(intake_catalog).search(variable=('TREFHT'), \n",
    "                                                       frequency=('month_1'))\n",
    "\n",
    "print(cat.keys())"
   ]
  },
  {
   "cell_type": "code",
   "execution_count": 4,
   "id": "6a368fca-4f41-4ffe-9f6b-32c73b069d37",
   "metadata": {
    "tags": []
   },
   "outputs": [
    {
     "name": "stdout",
     "output_type": "stream",
     "text": [
      "\n",
      "--> The keys in the returned dictionary of datasets are constructed as follows:\n",
      "\t'component.stream.case'\n"
     ]
    },
    {
     "data": {
      "text/html": [
       "\n",
       "    <div>\n",
       "        <style>\n",
       "            /* Turns off some styling */\n",
       "            progress {\n",
       "                /* gets rid of default border in Firefox and Opera. */\n",
       "                border: none;\n",
       "                /* Needs to be in here for Safari polyfill so background images work as expected. */\n",
       "                background-size: auto;\n",
       "            }\n",
       "            .progress-bar-interrupted, .progress-bar-interrupted::-webkit-progress-bar {\n",
       "                background: #F44336;\n",
       "            }\n",
       "        </style>\n",
       "      <progress value='5' class='' max='5' style='width:300px; height:20px; vertical-align: middle;'></progress>\n",
       "      100.00% [5/5 00:06<00:00]\n",
       "    </div>\n",
       "    "
      ],
      "text/plain": [
       "<IPython.core.display.HTML object>"
      ]
     },
     "metadata": {},
     "output_type": "display_data"
    },
    {
     "data": {
      "text/plain": [
       "dict_keys(['atm.cam.h0.b.e21.BW.f09_g17.SSP245-TSMLT-GAUSS-DEFAULT.002', 'atm.cam.h0.b.e21.BW.f09_g17.SSP245-TSMLT-GAUSS-DEFAULT.003', 'atm.cam.h0.b.e21.BW.f09_g17.SSP245-TSMLT-GAUSS-DEFAULT.005', 'atm.cam.h0.b.e21.BW.f09_g17.SSP245-TSMLT-GAUSS-DEFAULT.004', 'atm.cam.h0.b.e21.BW.f09_g17.SSP245-TSMLT-GAUSS-DEFAULT.001'])"
      ]
     },
     "execution_count": 4,
     "metadata": {},
     "output_type": "execute_result"
    }
   ],
   "source": [
    "dsets = cat.to_dataset_dict(cdf_kwargs={'chunks': {'time': 8}, 'decode_times': False})\n",
    "dsets.keys()"
   ]
  },
  {
   "cell_type": "code",
   "execution_count": 5,
   "id": "ddfd798a-ed5f-449e-944f-42ffefdd83d2",
   "metadata": {},
   "outputs": [],
   "source": [
    "# a function that creates a contour plot of a (lat, time) reference height temperature field \n",
    "def plot_trefht(tref, case):\n",
    "    \n",
    "    print(case)\n",
    "    fig = tref.plot.contourf(y='lat',\n",
    "                             figsize=(15,6), \n",
    "                             levels=np.arange(240,310,2.5)\n",
    "                         )\n",
    "    fig.axes.set_ylabel('Latitude')\n",
    "    fig.axes.set_xlabel('Year')\n",
    "    plt.title('TREFHT')\n",
    "\n",
    "    plt.show()\n",
    "    return"
   ]
  },
  {
   "cell_type": "code",
   "execution_count": 6,
   "id": "f8de1ed5-5129-489c-b494-1a838b007af5",
   "metadata": {
    "tags": []
   },
   "outputs": [
    {
     "name": "stdout",
     "output_type": "stream",
     "text": [
      "5\n"
     ]
    }
   ],
   "source": [
    "# search for the SSP245 cases\n",
    "hist_cases = [key for key in list(dsets) if \"SSP245\" in key]\n",
    "print(len(hist_cases))"
   ]
  },
  {
   "cell_type": "code",
   "execution_count": 7,
   "id": "0b3bc818-b82a-44f3-9a8f-5862565b5733",
   "metadata": {},
   "outputs": [],
   "source": [
    "# functions that ensure the time field is centered between the time bounds values\n",
    "# fixes an issue with the monthly CESM data have a time value that is the day following\n",
    "# month (i.e., time = 2002-02-1 for the January mean)\n",
    "\n",
    "def _get_tb_name_and_tb_dim(ds):\n",
    "    \"\"\"return the name of the time 'bounds' variable and its second dimension\"\"\"\n",
    "    assert 'bounds' in ds.time.attrs, 'missing \"bounds\" attr on time'\n",
    "    tb_name = ds.time.attrs['bounds']\n",
    "    assert tb_name in ds, f'missing \"{tb_name}\"'\n",
    "    tb_dim = ds[tb_name].dims[-1]\n",
    "    return tb_name, tb_dim\n",
    "\n",
    "def center_time(ds):\n",
    "    \"\"\"make time the center of the time bounds\"\"\"\n",
    "    ds = ds.copy()\n",
    "    attrs = ds.time.attrs\n",
    "    encoding = ds.time.encoding\n",
    "    tb_name, tb_dim = _get_tb_name_and_tb_dim(ds)\n",
    "\n",
    "    ds['time'] = ds[tb_name].compute().mean(tb_dim).squeeze()\n",
    "    attrs['note'] = f'time recomputed as {tb_name}.mean({tb_dim})'\n",
    "    ds.time.attrs = attrs\n",
    "    ds.time.encoding = encoding\n",
    "    return ds"
   ]
  },
  {
   "cell_type": "code",
   "execution_count": 10,
   "id": "a7cca95c-9fc8-49ae-8ab4-ba36aec47b38",
   "metadata": {},
   "outputs": [
    {
     "name": "stdout",
     "output_type": "stream",
     "text": [
      "atm.cam.h0.b.e21.BW.f09_g17.SSP245-TSMLT-GAUSS-DEFAULT.002\n"
     ]
    },
    {
     "ename": "NameError",
     "evalue": "name 'np' is not defined",
     "output_type": "error",
     "traceback": [
      "\u001b[0;31m---------------------------------------------------------------------------\u001b[0m",
      "\u001b[0;31mNameError\u001b[0m                                 Traceback (most recent call last)",
      "\u001b[0;32m<ipython-input-10-00131163df20>\u001b[0m in \u001b[0;36m<module>\u001b[0;34m\u001b[0m\n\u001b[1;32m      9\u001b[0m \u001b[0;34m\u001b[0m\u001b[0m\n\u001b[1;32m     10\u001b[0m     \u001b[0mds\u001b[0m \u001b[0;34m=\u001b[0m \u001b[0mcenter_time\u001b[0m\u001b[0;34m(\u001b[0m\u001b[0mds\u001b[0m\u001b[0;34m)\u001b[0m\u001b[0;34m\u001b[0m\u001b[0;34m\u001b[0m\u001b[0m\n\u001b[0;32m---> 11\u001b[0;31m     \u001b[0mtref\u001b[0m \u001b[0;34m=\u001b[0m \u001b[0mglobal_mean\u001b[0m\u001b[0;34m(\u001b[0m\u001b[0mds\u001b[0m\u001b[0;34m[\u001b[0m\u001b[0;34m'TREFHT'\u001b[0m\u001b[0;34m]\u001b[0m\u001b[0;34m.\u001b[0m\u001b[0msel\u001b[0m\u001b[0;34m(\u001b[0m\u001b[0mtime\u001b[0m\u001b[0;34m=\u001b[0m\u001b[0mslice\u001b[0m\u001b[0;34m(\u001b[0m\u001b[0;34m\"2035-01\"\u001b[0m\u001b[0;34m,\u001b[0m \u001b[0;34m\"2068-12\"\u001b[0m\u001b[0;34m)\u001b[0m\u001b[0;34m)\u001b[0m\u001b[0;34m.\u001b[0m\u001b[0mgroupby\u001b[0m\u001b[0;34m(\u001b[0m\u001b[0;34m'time.year'\u001b[0m\u001b[0;34m)\u001b[0m\u001b[0;34m.\u001b[0m\u001b[0mmean\u001b[0m\u001b[0;34m(\u001b[0m\u001b[0;34m)\u001b[0m\u001b[0;34m)\u001b[0m\u001b[0;34m\u001b[0m\u001b[0;34m\u001b[0m\u001b[0m\n\u001b[0m\u001b[1;32m     12\u001b[0m \u001b[0;34m\u001b[0m\u001b[0m\n\u001b[1;32m     13\u001b[0m     \u001b[0mtref\u001b[0m\u001b[0;34m.\u001b[0m\u001b[0mplot\u001b[0m\u001b[0;34m(\u001b[0m\u001b[0mlabel\u001b[0m\u001b[0;34m=\u001b[0m\u001b[0mcase\u001b[0m\u001b[0;34m)\u001b[0m\u001b[0;34m\u001b[0m\u001b[0;34m\u001b[0m\u001b[0m\n",
      "\u001b[0;32m~/projects/intake-esm/notebooks/util.py\u001b[0m in \u001b[0;36mglobal_mean\u001b[0;34m(ds)\u001b[0m\n\u001b[1;32m     30\u001b[0m \u001b[0;31m# variables weighted by cos(latitude)\u001b[0m\u001b[0;34m\u001b[0m\u001b[0;34m\u001b[0m\u001b[0;34m\u001b[0m\u001b[0m\n\u001b[1;32m     31\u001b[0m \u001b[0;31m#\u001b[0m\u001b[0;34m\u001b[0m\u001b[0;34m\u001b[0m\u001b[0;34m\u001b[0m\u001b[0m\n\u001b[0;32m---> 32\u001b[0;31m \u001b[0;32mdef\u001b[0m \u001b[0mglobal_mean\u001b[0m\u001b[0;34m(\u001b[0m\u001b[0mds\u001b[0m\u001b[0;34m)\u001b[0m\u001b[0;34m:\u001b[0m\u001b[0;34m\u001b[0m\u001b[0;34m\u001b[0m\u001b[0m\n\u001b[0m\u001b[1;32m     33\u001b[0m     \u001b[0mlat\u001b[0m \u001b[0;34m=\u001b[0m \u001b[0mds\u001b[0m\u001b[0;34m[\u001b[0m\u001b[0;34m'lat'\u001b[0m\u001b[0;34m]\u001b[0m\u001b[0;34m\u001b[0m\u001b[0;34m\u001b[0m\u001b[0m\n\u001b[1;32m     34\u001b[0m     \u001b[0mweight\u001b[0m \u001b[0;34m=\u001b[0m \u001b[0mnp\u001b[0m\u001b[0;34m.\u001b[0m\u001b[0mcos\u001b[0m\u001b[0;34m(\u001b[0m\u001b[0mnp\u001b[0m\u001b[0;34m.\u001b[0m\u001b[0mdeg2rad\u001b[0m\u001b[0;34m(\u001b[0m\u001b[0mlat\u001b[0m\u001b[0;34m)\u001b[0m\u001b[0;34m)\u001b[0m\u001b[0;34m\u001b[0m\u001b[0;34m\u001b[0m\u001b[0m\n",
      "\u001b[0;31mNameError\u001b[0m: name 'np' is not defined"
     ]
    }
   ],
   "source": [
    "# plot the global mean annual mean TREFHT across all SSP245 cases\n",
    "\n",
    "plt.figure(figsize=(15,6))\n",
    "for case in hist_cases:\n",
    "    print(case)\n",
    "    ds = dsets[case]\n",
    "    ds = xr.decode_cf(ds)\n",
    "    ds = ds.sortby('time')\n",
    "\n",
    "    ds = center_time(ds)\n",
    "    tref = global_mean(ds['TREFHT'].sel(time=slice(\"2035-01\", \"2068-12\")).groupby('time.year').mean())\n",
    "\n",
    "    tref.plot(label=case)\n",
    "plt.legend()\n",
    "plt.title('TREFHT global mean')\n",
    "plt.show()"
   ]
  },
  {
   "cell_type": "code",
   "execution_count": null,
   "id": "91713a2f-b0f3-41f5-81a2-34571846dc73",
   "metadata": {},
   "outputs": [],
   "source": [
    "ds['time'][0:5].values"
   ]
  },
  {
   "cell_type": "code",
   "execution_count": null,
   "id": "8477f1cb-e8a4-4803-805c-77d299aadc1f",
   "metadata": {},
   "outputs": [],
   "source": [
    "ds['time_bnds'][0:5].values"
   ]
  },
  {
   "cell_type": "code",
   "execution_count": null,
   "id": "3347951d-f0e2-434c-bd5e-43cf80881a38",
   "metadata": {
    "tags": []
   },
   "outputs": [],
   "source": [
    "for case in hist_cases:\n",
    "    # print(case)\n",
    "    ds = dsets[case]\n",
    "    ds = xr.decode_cf(ds)\n",
    "    ds = ds.sortby('time')\n",
    "    \n",
    "    ds = center_time(ds)\n",
    "\n",
    "    tref = ds['TREFHT'].sel(time=slice(\"2035-01\", \"2052-12\")).mean(dim='lon')\n",
    "    plot_trefht(tref, case)\n",
    "    tref = ds['TREFHT'].sel(time=slice(\"2053-01\", \"2070-12\")).mean(dim='lon')\n",
    "    plot_trefht(tref, case)\n"
   ]
  },
  {
   "cell_type": "code",
   "execution_count": null,
   "id": "bbe0c5fe-8d4d-4124-8ab9-be2daf8b3472",
   "metadata": {},
   "outputs": [],
   "source": []
  }
 ],
 "metadata": {
  "kernelspec": {
   "display_name": "Python [conda env:miniconda3-default]",
   "language": "python",
   "name": "conda-env-miniconda3-default-py"
  },
  "language_info": {
   "codemirror_mode": {
    "name": "ipython",
    "version": 3
   },
   "file_extension": ".py",
   "mimetype": "text/x-python",
   "name": "python",
   "nbconvert_exporter": "python",
   "pygments_lexer": "ipython3",
   "version": "3.9.5"
  }
 },
 "nbformat": 4,
 "nbformat_minor": 5
}
