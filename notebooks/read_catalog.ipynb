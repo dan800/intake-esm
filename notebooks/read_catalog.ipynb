{
 "cells": [
  {
   "cell_type": "markdown",
   "id": "2e741553-7da5-45e0-abde-a1ea8a383354",
   "metadata": {},
   "source": [
    "## Import\n",
    "Use elements of the scientific python stack"
   ]
  },
  {
   "cell_type": "code",
   "execution_count": 1,
   "id": "75695eb9-834f-49e0-b736-99f69a89be68",
   "metadata": {
    "tags": []
   },
   "outputs": [],
   "source": [
    "from matplotlib import pyplot as plt\n",
    "import numpy as np\n",
    "import xarray as xr\n",
    "\n",
    "# Import ast which helps with parsing the list of variables\n",
    "import ast\n",
    "\n",
    "# Import intake-esm\n",
    "import intake\n",
    "\n",
    "# Import dask\n",
    "import dask\n",
    "\n",
    "# Use dask jobqueue\n",
    "from dask_jobqueue import PBSCluster\n",
    "\n",
    "# Import a client\n",
    "from dask.distributed import Client\n",
    "\n",
    "%matplotlib inline"
   ]
  },
  {
   "cell_type": "markdown",
   "id": "217c8006-7c21-4b9c-809d-99772a1182c1",
   "metadata": {},
   "source": [
    "## Setup a PBSCluster\n",
    "Speed up processing with DASK with 8 threads"
   ]
  },
  {
   "cell_type": "code",
   "execution_count": null,
   "id": "7b29213e-bb21-44dc-9c03-c38af1401352",
   "metadata": {},
   "outputs": [],
   "source": [
    "cluster = PBSCluster(\n",
    "    cores=1, # The number of cores you want\n",
    "    memory='10GB', # Amount of memory\n",
    "    processes=1, # How many processes\n",
    "    queue='casper', # The type of queue to utilize (/glade/u/apps/dav/opt/usr/bin/execcasper)\n",
    "    local_directory='$TMPDIR', # Use your local directory\n",
    "    resource_spec='select=1:ncpus=1:mem=10GB', # Specify resources\n",
    "    project='CESM0002', # Input your project ID here\n",
    "    walltime='04:00:00', # Amount of wall time\n",
    "    interface='ib0', # Interface to use\n",
    ")\n",
    "\n",
    "cluster.scale(8) # Scale up\n",
    "\n",
    "# Change your url to the dask dashboard so you can see it\n",
    "dask.config.set({'distributed.dashboard.link':'https://jupyterhub.hpc.ucar.edu/stable/user/{USER}/proxy/{port}/status'})\n",
    "\n",
    "# Setup your client\n",
    "client = Client(cluster)"
   ]
  },
  {
   "cell_type": "code",
   "execution_count": null,
   "id": "37370864-8107-4333-a13a-c11e427e0499",
   "metadata": {},
   "outputs": [],
   "source": [
    "client"
   ]
  },
  {
   "cell_type": "markdown",
   "id": "b60eb34b-7958-4432-8320-b70ed5e76368",
   "metadata": {},
   "source": [
    "## Open a catalog"
   ]
  },
  {
   "cell_type": "code",
   "execution_count": null,
   "id": "c20b2425-79df-4f6b-acc3-38cf92623369",
   "metadata": {},
   "outputs": [],
   "source": [
    "cat = intake.open_esm_datastore(\n",
    "    \"/glade/work/marsh/intake-esm-catalogs/WACCM6-MA-1deg.json\",\n",
    "    ).search(\n",
    "    variable=('Uzm'),\n",
    "    frequency=('day_1')\n",
    ")\n",
    "print(cat.keys())\n",
    "cat"
   ]
  },
  {
   "cell_type": "code",
   "execution_count": null,
   "id": "fa14bf5e-775a-4a8e-b55d-0d69c513ea1e",
   "metadata": {},
   "outputs": [],
   "source": [
    "dsets = cat.to_dataset_dict(cdf_kwargs={'chunks': {'time': 8}, 'decode_times': False})"
   ]
  },
  {
   "cell_type": "code",
   "execution_count": null,
   "id": "c27b61e9-0ea9-43f4-9d0c-ceedfbb283e6",
   "metadata": {},
   "outputs": [],
   "source": [
    "dsets.keys()"
   ]
  },
  {
   "cell_type": "code",
   "execution_count": null,
   "id": "9b95e803-e2df-4ef4-afb4-ec370b8e0673",
   "metadata": {},
   "outputs": [],
   "source": [
    "k = 'atm.cam.h6.b.e21.BWmaHIST.f09_g17.release-cesm2.1.3.WACCM-MA-1deg.002'\n",
    "print(k)\n",
    "\n",
    "ds = dsets[k]\n",
    "ds = xr.decode_cf(ds)\n",
    "print(ds['time'][0].values)\n",
    "ds = ds.sortby('time')\n",
    "print(ds['time'][0].values)\n",
    "\n",
    "u0 = ds['Uzm'].sel(lat=0.0, method='nearest').sel(time=slice(\"1980-01\", \"2010-12\"))\n"
   ]
  },
  {
   "cell_type": "code",
   "execution_count": null,
   "id": "ddfd798a-ed5f-449e-944f-42ffefdd83d2",
   "metadata": {},
   "outputs": [],
   "source": [
    "fig = u0[:,:,0].plot.contourf(y='ilev', \n",
    "                              ylim=(100,1), \n",
    "                              yincrease=False, \n",
    "                              yscale='log',\n",
    "                              figsize=(15,6), \n",
    "                              levels=np.arange(-30,31,2.5),\n",
    "                              )\n",
    "\n",
    "fig.axes.set_ylabel('Pressure (hPa)')\n",
    "fig.axes.set_xlabel('Year')\n",
    "plt.title('Equatorial zonal mean U')\n",
    "\n",
    "plt.show()"
   ]
  },
  {
   "cell_type": "code",
   "execution_count": null,
   "id": "95750841-e44c-4447-8f16-c991365782a9",
   "metadata": {},
   "outputs": [],
   "source": [
    "# data looks reasonable as values\n",
    "plt.figure(figsize=(15,6))\n",
    "\n",
    "t1.plot()\n",
    "\n",
    "plt.show()"
   ]
  },
  {
   "cell_type": "code",
   "execution_count": null,
   "id": "5fea08be-b6ad-4c81-9843-5500e1fe4ce8",
   "metadata": {},
   "outputs": [],
   "source": [
    "u1"
   ]
  },
  {
   "cell_type": "code",
   "execution_count": null,
   "id": "06a655c9-5417-472c-94c4-061425ea714c",
   "metadata": {},
   "outputs": [],
   "source": [
    "# time recognized when a single time is extracted\n",
    "u0 =  ds['Uzm'].isel(time=180, zlon=0)\n",
    "u0"
   ]
  },
  {
   "cell_type": "code",
   "execution_count": null,
   "id": "97fab24d-bc9e-47ef-94d7-8d189c036035",
   "metadata": {},
   "outputs": [],
   "source": [
    "fig = u0.plot(cmap='RdYlBu_r', figsize=(9,6), \n",
    "              ylim=(1000,0.1), \n",
    "              vmin=-60, vmax=60\n",
    "              )\n",
    "u0.plot.contour(yincrease=False, y='ilev', colors='black', levels=np.arange(-90,91,15))\n",
    "\n",
    "fig.axes.set_yscale('log')\n",
    "fig.axes.set_ylabel('Pressure (hPa)')\n",
    "plt.show()"
   ]
  },
  {
   "cell_type": "code",
   "execution_count": null,
   "id": "58c36326-de93-4684-a505-bece905d192e",
   "metadata": {},
   "outputs": [],
   "source": [
    "# time recognized when a single time is extracted\n",
    "t0 =  ds['T'].isel(time=31).mean(dim='lon')\n",
    "fig = t0.plot(cmap='RdYlBu_r', figsize=(9,6), \n",
    "              ylim=(1000,0.0001), \n",
    "              vmin=110, vmax=330\n",
    "              )\n",
    "t0.plot.contour(yincrease=False, colors='black', levels=np.arange(110,350,15))\n",
    "\n",
    "fig.axes.set_yscale('log')\n",
    "fig.axes.set_ylabel('Pressure (hPa)')\n",
    "plt.show()"
   ]
  },
  {
   "cell_type": "code",
   "execution_count": null,
   "id": "a1132ffc-17e9-47fc-b41c-c55dd0a099cb",
   "metadata": {},
   "outputs": [],
   "source": [
    "col.nunique()"
   ]
  },
  {
   "cell_type": "code",
   "execution_count": null,
   "id": "f8de1ed5-5129-489c-b494-1a838b007af5",
   "metadata": {},
   "outputs": [],
   "source": [
    "hist_cases = [key for key in list(cat) if \"HIST\" in key]\n",
    "print(hist_cases)"
   ]
  },
  {
   "cell_type": "code",
   "execution_count": null,
   "id": "b74e0ca5-9e56-45ff-baee-9e22f71e338b",
   "metadata": {},
   "outputs": [],
   "source": [
    "hist_cases?"
   ]
  },
  {
   "cell_type": "code",
   "execution_count": null,
   "id": "6531973f-336e-4d94-b4ee-45d1444e771c",
   "metadata": {},
   "outputs": [],
   "source": [
    "cluster.scale(0)"
   ]
  },
  {
   "cell_type": "code",
   "execution_count": null,
   "id": "4ac86a11-7e4f-40ec-86c9-4711b672875a",
   "metadata": {},
   "outputs": [],
   "source": []
  }
 ],
 "metadata": {
  "kernelspec": {
   "display_name": "Python [conda env:miniconda3-default]",
   "language": "python",
   "name": "conda-env-miniconda3-default-py"
  },
  "language_info": {
   "codemirror_mode": {
    "name": "ipython",
    "version": 3
   },
   "file_extension": ".py",
   "mimetype": "text/x-python",
   "name": "python",
   "nbconvert_exporter": "python",
   "pygments_lexer": "ipython3",
   "version": "3.9.5"
  }
 },
 "nbformat": 4,
 "nbformat_minor": 5
}
