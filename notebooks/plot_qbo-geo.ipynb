{
 "cells": [
  {
   "cell_type": "markdown",
   "id": "2e741553-7da5-45e0-abde-a1ea8a383354",
   "metadata": {},
   "source": [
    "## Import\n",
    "Use elements of the scientific python stack"
   ]
  },
  {
   "cell_type": "code",
   "execution_count": null,
   "id": "75695eb9-834f-49e0-b736-99f69a89be68",
   "metadata": {
    "tags": []
   },
   "outputs": [],
   "source": [
    "from matplotlib import pyplot as plt\n",
    "import numpy as np\n",
    "import xarray as xr\n",
    "\n",
    "# Import a client\n",
    "from dask.distributed import Client\n",
    "\n",
    "# Import intake-esm\n",
    "import intake\n",
    "\n",
    "import util"
   ]
  },
  {
   "cell_type": "markdown",
   "id": "217c8006-7c21-4b9c-809d-99772a1182c1",
   "metadata": {},
   "source": [
    "## Setup a PBSCluster\n",
    "Speed up processing with DASK with 8 threads"
   ]
  },
  {
   "cell_type": "code",
   "execution_count": null,
   "id": "bce4063c-8a93-47b8-85b8-b0e67c2e8633",
   "metadata": {},
   "outputs": [],
   "source": [
    "cluster = util.get_pbscluster(8)\n",
    "# Setup your client\n",
    "client = Client(cluster)\n",
    "client"
   ]
  },
  {
   "cell_type": "markdown",
   "id": "b60eb34b-7958-4432-8320-b70ed5e76368",
   "metadata": {},
   "source": [
    "## Open a catalog"
   ]
  },
  {
   "cell_type": "code",
   "execution_count": null,
   "id": "c20b2425-79df-4f6b-acc3-38cf92623369",
   "metadata": {},
   "outputs": [],
   "source": [
    "cat = intake.open_esm_datastore(\n",
    "    \"/glade/work/marsh/intake-esm-catalogs/WACCM6-TSMLT-GEO-SAI1.json\",\n",
    "    ).search(\n",
    "    variable=('Uzm'),\n",
    "    frequency=('day_1')\n",
    ")\n",
    "print(cat.keys())\n",
    "# cat"
   ]
  },
  {
   "cell_type": "code",
   "execution_count": null,
   "id": "6a368fca-4f41-4ffe-9f6b-32c73b069d37",
   "metadata": {
    "tags": []
   },
   "outputs": [],
   "source": [
    "dsets = cat.to_dataset_dict(cdf_kwargs={'chunks': {'time': 8}, 'decode_times': False})\n",
    "dsets.keys()"
   ]
  },
  {
   "cell_type": "code",
   "execution_count": null,
   "id": "ddfd798a-ed5f-449e-944f-42ffefdd83d2",
   "metadata": {},
   "outputs": [],
   "source": [
    "def plot_u(u, case):\n",
    "    \n",
    "    print(case)\n",
    "    fig = u.plot.contourf(y='ilev', \n",
    "                          ylim=(100,1), \n",
    "                          yincrease=False, \n",
    "                          yscale='log',\n",
    "                          figsize=(15,6), \n",
    "                          levels=np.arange(-30,31,2.5)\n",
    "                         )\n",
    "    fig.axes.set_ylabel('Pressure (hPa)')\n",
    "    fig.axes.set_xlabel('Year')\n",
    "    plt.title('Equatorial zonal mean U')\n",
    "\n",
    "    plt.show()\n",
    "    return"
   ]
  },
  {
   "cell_type": "code",
   "execution_count": null,
   "id": "f8de1ed5-5129-489c-b494-1a838b007af5",
   "metadata": {
    "tags": []
   },
   "outputs": [],
   "source": [
    "hist_cases = [key for key in list(cat) if \"SSP245\" in key]\n",
    "print(len(hist_cases))"
   ]
  },
  {
   "cell_type": "code",
   "execution_count": null,
   "id": "6531973f-336e-4d94-b4ee-45d1444e771c",
   "metadata": {
    "tags": []
   },
   "outputs": [],
   "source": [
    "for case in hist_cases:\n",
    "    # print(case)\n",
    "    ds = dsets[case]\n",
    "    ds = xr.decode_cf(ds)\n",
    "    ds = ds.sortby('time')\n",
    "    u0 = ds['Uzm'].isel(zlon=0).sel(lat=0.0, method='nearest').sel(time=slice(\"2035-01\", \"2052-12\"))\n",
    "    plot_u(u0, case)\n",
    "    u0 = ds['Uzm'].isel(zlon=0).sel(lat=0.0, method='nearest').sel(time=slice(\"2053-01\", \"2070-12\"))\n",
    "    plot_u(u0, case)\n",
    "\n",
    "    "
   ]
  },
  {
   "cell_type": "code",
   "execution_count": null,
   "id": "11c31d2d-ca6e-4bb0-8521-17bde38a27a5",
   "metadata": {},
   "outputs": [],
   "source": []
  }
 ],
 "metadata": {
  "kernelspec": {
   "display_name": "Python [conda env:miniconda3-default]",
   "language": "python",
   "name": "conda-env-miniconda3-default-py"
  },
  "language_info": {
   "codemirror_mode": {
    "name": "ipython",
    "version": 3
   },
   "file_extension": ".py",
   "mimetype": "text/x-python",
   "name": "python",
   "nbconvert_exporter": "python",
   "pygments_lexer": "ipython3",
   "version": "3.9.5"
  }
 },
 "nbformat": 4,
 "nbformat_minor": 5
}
