{
 "cells": [
  {
   "cell_type": "code",
   "execution_count": 1,
   "id": "4b3ccd14-5d04-425c-96a9-7067bb154547",
   "metadata": {},
   "outputs": [],
   "source": [
    "import glob\n",
    "\n",
    "from ecgtools import Builder\n",
    "from ecgtools.parsers.cesm import parse_cesm_history, parse_cesm_timeseries"
   ]
  },
  {
   "cell_type": "code",
   "execution_count": 2,
   "id": "380337fc-ee18-45fe-ba75-102d8b2ce371",
   "metadata": {},
   "outputs": [
    {
     "data": {
      "text/plain": [
       "['/glade/campaign/cesm/development/wawg/WACCM6-MA-1deg/b.e21.BWma1850.f09_g17.release-cesm2.1.3.c20200918/',\n",
       " '/glade/campaign/cesm/development/wawg/WACCM6-MA-1deg/b.e21.BWmaHIST.f09_g17.release-cesm2.1.3.WACCM-MA-1deg.003/',\n",
       " '/glade/campaign/cesm/development/wawg/WACCM6-MA-1deg/b.e21.BWmaCO2x4.f09_g17.release-cesm2.1.3.WACCM-MA-1deg.001/',\n",
       " '/glade/campaign/cesm/development/wawg/WACCM6-MA-1deg/b.e21.BWmaHIST.f09_g17.release-cesm2.1.3.WACCM-MA-1deg.002/',\n",
       " '/glade/campaign/cesm/development/wawg/WACCM6-MA-1deg/b.e21.BWmaHIST.f09_g17.release-cesm2.1.3.WACCM-MA-1deg.001/',\n",
       " '/glade/campaign/cesm/development/wawg/WACCM6-MA-1deg/b.e21.BWSSP245.f09_g17.release-cesm2.1.3.WACCM-MA-1deg.001/']"
      ]
     },
     "execution_count": 2,
     "metadata": {},
     "output_type": "execute_result"
    }
   ],
   "source": [
    "glob.glob('/glade/campaign/cesm/development/wawg/WACCM6-MA-1deg/*/')"
   ]
  },
  {
   "cell_type": "code",
   "execution_count": 3,
   "id": "2ed7cc97-8f42-459d-a422-a7b1448ba007",
   "metadata": {},
   "outputs": [],
   "source": [
    "b = Builder(\n",
    "    # Directory with the output\n",
    "    \"/glade/campaign/cesm/development/wawg/WACCM6-MA-1deg/b.e21.BWma1850.f09_g17.release-cesm2.1.3.c20200918/atm/proc/tseries/month_1/\",\n",
    "    # Depth of 1 since we are sending it to the case output directory\n",
    "    depth=1,\n",
    "    # Exclude the timeseries and restart directories,\n",
    "    # exclude_patterns=[\"*/tseries/*\", \"*/rest/*\"],\n",
    "    # Number of jobs to execute - should be equal to # threads you are using\n",
    "    njobs=1\n",
    ")"
   ]
  },
  {
   "cell_type": "code",
   "execution_count": 4,
   "id": "d1f3c7a4-e1d6-46df-ad1f-02652d13e071",
   "metadata": {
    "tags": []
   },
   "outputs": [
    {
     "name": "stderr",
     "output_type": "stream",
     "text": [
      "[Parallel(n_jobs=1)]: Using backend SequentialBackend with 1 concurrent workers.\n",
      "[Parallel(n_jobs=1)]: Done   1 out of   1 | elapsed:    0.0s remaining:    0.0s\n",
      "[Parallel(n_jobs=1)]: Done   1 out of   1 | elapsed:    0.0s finished\n",
      "[Parallel(n_jobs=1)]: Using backend SequentialBackend with 1 concurrent workers.\n",
      "[Parallel(n_jobs=1)]: Done   1 out of   1 | elapsed:    0.1s remaining:    0.0s\n",
      "[Parallel(n_jobs=1)]: Done   2 out of   2 | elapsed:    0.2s remaining:    0.0s\n",
      "[Parallel(n_jobs=1)]: Done   3 out of   3 | elapsed:    0.2s remaining:    0.0s\n",
      "[Parallel(n_jobs=1)]: Done   4 out of   4 | elapsed:    0.3s remaining:    0.0s\n",
      "[Parallel(n_jobs=1)]: Done 1260 out of 1260 | elapsed:  1.6min finished\n"
     ]
    }
   ],
   "source": [
    "b = b.build(parsing_func=parse_cesm_timeseries)"
   ]
  },
  {
   "cell_type": "code",
   "execution_count": 5,
   "id": "f9a2f750-f7c4-4088-8ebe-6bdc88c6b7a4",
   "metadata": {
    "tags": []
   },
   "outputs": [
    {
     "data": {
      "text/html": [
       "<div>\n",
       "<style scoped>\n",
       "    .dataframe tbody tr th:only-of-type {\n",
       "        vertical-align: middle;\n",
       "    }\n",
       "\n",
       "    .dataframe tbody tr th {\n",
       "        vertical-align: top;\n",
       "    }\n",
       "\n",
       "    .dataframe thead th {\n",
       "        text-align: right;\n",
       "    }\n",
       "</style>\n",
       "<table border=\"1\" class=\"dataframe\">\n",
       "  <thead>\n",
       "    <tr style=\"text-align: right;\">\n",
       "      <th></th>\n",
       "    </tr>\n",
       "  </thead>\n",
       "  <tbody>\n",
       "  </tbody>\n",
       "</table>\n",
       "</div>"
      ],
      "text/plain": [
       "Empty DataFrame\n",
       "Columns: []\n",
       "Index: []"
      ]
     },
     "execution_count": 5,
     "metadata": {},
     "output_type": "execute_result"
    }
   ],
   "source": [
    "b.invalid_assets"
   ]
  },
  {
   "cell_type": "code",
   "execution_count": 6,
   "id": "a79b6c5b-e9a6-4406-82c7-4cb4345800c1",
   "metadata": {},
   "outputs": [
    {
     "name": "stdout",
     "output_type": "stream",
     "text": [
      "Saved catalog location: /glade/u/home/marsh/WACCM/waccm_1deg_MA/waccm_1deg_MA_BWma1850.json and /glade/u/home/marsh/WACCM/waccm_1deg_MA/waccm_1deg_MA_BWma1850.csv\n"
     ]
    }
   ],
   "source": [
    "b.save(\n",
    "    # File path - could save as .csv (uncompressed csv) or .csv.gz (compressed csv)\n",
    "    \"/glade/u/home/marsh/WACCM/waccm_1deg_MA/waccm_1deg_MA_BWma1850.csv\",\n",
    "    # Column name including filepath\n",
    "    path_column_name='path',\n",
    "    # Column name including variables\n",
    "    variable_column_name='variable',\n",
    "    # Data file format - could be netcdf or zarr (in this case, netcdf)\n",
    "    data_format=\"netcdf\",\n",
    "    # Which attributes to groupby when reading in variables using intake-esm\n",
    "    groupby_attrs=[\"component\", \"stream\", \"case\"],\n",
    "    # Aggregations which are fed into xarray when reading in data using intake\n",
    "    aggregations=[\n",
    "        {'type': 'union', 'attribute_name': 'variable'},\n",
    "        {\n",
    "            'type': 'join_existing',\n",
    "            'attribute_name': 'time_range',\n",
    "            'options': {'dim': 'time', 'coords': 'minimal', 'compat': 'override'},\n",
    "        },\n",
    "    ],\n",
    ")"
   ]
  },
  {
   "cell_type": "code",
   "execution_count": null,
   "id": "15b48c37-e8ed-45aa-ab1d-7f7e2c016a2a",
   "metadata": {},
   "outputs": [],
   "source": [
    "!ls /glade/campaign/cesm/development/wawg/WACCM6-MA-1deg/b.e21.BWma1850.f09_g17.release-cesm2.1.3.c20200918/atm/proc/tseries/month_1/"
   ]
  }
 ],
 "metadata": {
  "kernelspec": {
   "display_name": "Python [conda env:miniconda3-default]",
   "language": "python",
   "name": "conda-env-miniconda3-default-py"
  },
  "language_info": {
   "codemirror_mode": {
    "name": "ipython",
    "version": 3
   },
   "file_extension": ".py",
   "mimetype": "text/x-python",
   "name": "python",
   "nbconvert_exporter": "python",
   "pygments_lexer": "ipython3",
   "version": "3.9.5"
  }
 },
 "nbformat": 4,
 "nbformat_minor": 5
}
