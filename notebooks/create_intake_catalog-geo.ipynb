{
 "cells": [
  {
   "cell_type": "code",
   "execution_count": 2,
   "id": "4b3ccd14-5d04-425c-96a9-7067bb154547",
   "metadata": {},
   "outputs": [],
   "source": [
    "import glob\n",
    "\n",
    "from ecgtools import Builder\n",
    "from ecgtools.parsers.cesm import parse_cesm_history, parse_cesm_timeseries"
   ]
  },
  {
   "cell_type": "markdown",
   "id": "580bb37c-c1d1-42f4-99d5-9804da1316c2",
   "metadata": {},
   "source": [
    "Let's see what is available for\n",
    "/glade/campaign/cesm/development/wawg/WACCM6-TSMLT-GEO/SAI1/b.e21.BW.f09_g17.SSP245-TSMLT-GAUSS-DEFAULT.005/atm/proc/tseries/:\n",
    "day_1  day_5  hour_1  hour_3  month_1"
   ]
  },
  {
   "cell_type": "code",
   "execution_count": 4,
   "id": "d0542285-cd6b-43fb-aede-1eb094bfb7a5",
   "metadata": {},
   "outputs": [
    {
     "data": {
      "text/plain": [
       "['/glade/campaign/cesm/development/wawg/WACCM6-TSMLT-GEO/SAI1/b.e21.BW.f09_g17.SSP245-TSMLT-GAUSS-DEFAULT.004',\n",
       " '/glade/campaign/cesm/development/wawg/WACCM6-TSMLT-GEO/SAI1/b.e21.BW.f09_g17.SSP245-TSMLT-GAUSS-DEFAULT.003',\n",
       " '/glade/campaign/cesm/development/wawg/WACCM6-TSMLT-GEO/SAI1/b.e21.BW.f09_g17.SSP245-TSMLT-GAUSS-DEFAULT.005',\n",
       " '/glade/campaign/cesm/development/wawg/WACCM6-TSMLT-GEO/SAI1/b.e21.BW.f09_g17.SSP245-TSMLT-GAUSS-DEFAULT.001',\n",
       " '/glade/campaign/cesm/development/wawg/WACCM6-TSMLT-GEO/SAI1/b.e21.BW.f09_g17.SSP245-TSMLT-GAUSS-DEFAULT.002']"
      ]
     },
     "execution_count": 4,
     "metadata": {},
     "output_type": "execute_result"
    }
   ],
   "source": [
    "glob.glob('/glade/campaign/cesm/development/wawg/WACCM6-TSMLT-GEO/SAI1/*')"
   ]
  },
  {
   "cell_type": "markdown",
   "id": "c49f494d-2977-45fb-aca7-a4cbfde6890a",
   "metadata": {},
   "source": [
    "Build a catalog of the 1 degree WACCM6 MA chemistry timeseries output for all these cases"
   ]
  },
  {
   "cell_type": "code",
   "execution_count": 5,
   "id": "2ed7cc97-8f42-459d-a422-a7b1448ba007",
   "metadata": {},
   "outputs": [],
   "source": [
    "esm_dir = \"/glade/campaign/cesm/development/wawg/WACCM6-TSMLT-GEO/SAI1/\"\n",
    "\n",
    "b = Builder(\n",
    "    # Directory with the output\n",
    "    esm_dir,\n",
    "    # Depth of 1 since we are sending it to the case output directory\n",
    "    depth=4,\n",
    "    # Exclude the other components, hist, and restart directories\n",
    "    # and pick out the proc timeseries for 1- and 5-day and monthly data\n",
    "    exclude_patterns=[\"*/cpl/*\", \n",
    "                      \"*/esp/*\",\n",
    "                      \"*/glc/*\",\n",
    "                      \"*/ice/*\",\n",
    "                      \"*/lnd/*\", \n",
    "                      \"*/logs/*\",\n",
    "                      \"*/ocn/*\",\n",
    "                      \"*/rest/*\",\n",
    "                      \"*/rof/*\", \n",
    "                      \"*/wav/*\",\n",
    "                      \"*/controller/*\"],\n",
    "    # Number of jobs to execute - should be equal to # threads you are using\n",
    "    njobs=1\n",
    ")"
   ]
  },
  {
   "cell_type": "code",
   "execution_count": 6,
   "id": "d1f3c7a4-e1d6-46df-ad1f-02652d13e071",
   "metadata": {
    "tags": []
   },
   "outputs": [
    {
     "name": "stderr",
     "output_type": "stream",
     "text": [
      "[Parallel(n_jobs=1)]: Using backend SequentialBackend with 1 concurrent workers.\n",
      "[Parallel(n_jobs=1)]: Done   1 out of   1 | elapsed:    0.0s remaining:    0.0s\n",
      "[Parallel(n_jobs=1)]: Done   2 out of   2 | elapsed:    0.0s remaining:    0.0s\n",
      "[Parallel(n_jobs=1)]: Done   3 out of   3 | elapsed:    0.0s remaining:    0.0s\n",
      "[Parallel(n_jobs=1)]: Done   4 out of   4 | elapsed:    0.0s remaining:    0.0s\n",
      "[Parallel(n_jobs=1)]: Done  88 out of  88 | elapsed:    0.5s finished\n",
      "[Parallel(n_jobs=1)]: Using backend SequentialBackend with 1 concurrent workers.\n",
      "[Parallel(n_jobs=1)]: Done   1 out of   1 | elapsed:    0.3s remaining:    0.0s\n",
      "[Parallel(n_jobs=1)]: Done   2 out of   2 | elapsed:    0.4s remaining:    0.0s\n",
      "[Parallel(n_jobs=1)]: Done   3 out of   3 | elapsed:    0.5s remaining:    0.0s\n",
      "[Parallel(n_jobs=1)]: Done   4 out of   4 | elapsed:    0.6s remaining:    0.0s\n",
      "[Parallel(n_jobs=1)]: Done 8634 out of 8634 | elapsed: 12.5min finished\n"
     ]
    }
   ],
   "source": [
    "b = b.build(parsing_func=parse_cesm_timeseries)"
   ]
  },
  {
   "cell_type": "markdown",
   "id": "985818e3-4d55-4232-895f-54103db7140b",
   "metadata": {},
   "source": [
    "check for invalid assets"
   ]
  },
  {
   "cell_type": "code",
   "execution_count": 7,
   "id": "f9a2f750-f7c4-4088-8ebe-6bdc88c6b7a4",
   "metadata": {
    "tags": []
   },
   "outputs": [
    {
     "data": {
      "text/plain": [
       "array([], shape=(0, 0), dtype=float64)"
      ]
     },
     "execution_count": 7,
     "metadata": {},
     "output_type": "execute_result"
    }
   ],
   "source": [
    "b.invalid_assets.values"
   ]
  },
  {
   "cell_type": "markdown",
   "id": "dcddeb34-2e9f-4d68-895d-fa97a20f3d32",
   "metadata": {},
   "source": [
    "Save the catalog - creates a csv and json file"
   ]
  },
  {
   "cell_type": "code",
   "execution_count": 8,
   "id": "a79b6c5b-e9a6-4406-82c7-4cb4345800c1",
   "metadata": {},
   "outputs": [
    {
     "name": "stdout",
     "output_type": "stream",
     "text": [
      "Saved catalog location: /glade/work/marsh/intake-esm-catalogs/WACCM6-TSMLT-GEO-SAI1.json and /glade/work/marsh/intake-esm-catalogs/WACCM6-TSMLT-GEO-SAI1.csv\n"
     ]
    }
   ],
   "source": [
    "catalog_dir = \"/glade/work/marsh/intake-esm-catalogs/\"\n",
    "\n",
    "b.save(\n",
    "    # File path - could save as .csv (uncompressed csv) or .csv.gz (compressed csv)\n",
    "    catalog_dir+\"WACCM6-TSMLT-GEO-SAI1.csv\",\n",
    "    # Column name including filepath\n",
    "    path_column_name='path',\n",
    "    # Column name including variables\n",
    "    variable_column_name='variable',\n",
    "    # Data file format - could be netcdf or zarr (in this case, netcdf)\n",
    "    data_format=\"netcdf\",\n",
    "    # Which attributes to groupby when reading in variables using intake-esm\n",
    "    groupby_attrs=[\"component\", \"stream\", \"case\"],\n",
    "    # Aggregations which are fed into xarray when reading in data using intake\n",
    "    aggregations=[\n",
    "        {'type': 'union', 'attribute_name': 'variable'},\n",
    "        {\n",
    "            'type': 'join_existing',\n",
    "            'attribute_name': 'time_range',\n",
    "            'options': {'dim': 'time', 'coords': 'minimal', 'compat': 'override'},\n",
    "        },\n",
    "    ],\n",
    ")"
   ]
  },
  {
   "cell_type": "code",
   "execution_count": null,
   "id": "15b48c37-e8ed-45aa-ab1d-7f7e2c016a2a",
   "metadata": {},
   "outputs": [],
   "source": [
    "glob.glob(catalog_dir+'*')"
   ]
  },
  {
   "cell_type": "code",
   "execution_count": null,
   "id": "038d6c4b-2a60-4264-bf4b-c47c41b7495a",
   "metadata": {},
   "outputs": [],
   "source": [
    "b.filelist?"
   ]
  },
  {
   "cell_type": "code",
   "execution_count": 7,
   "id": "7207c4e4-383b-478e-823f-7e2e9cd76d49",
   "metadata": {},
   "outputs": [
    {
     "name": "stdout",
     "output_type": "stream",
     "text": [
      "2021.6.21.post2\n"
     ]
    }
   ],
   "source": [
    "import ecgtools\n",
    "print(ecgtools.__version__)"
   ]
  },
  {
   "cell_type": "code",
   "execution_count": null,
   "id": "43876f29-0213-45c9-a6e3-55852100622d",
   "metadata": {},
   "outputs": [],
   "source": [
    "from ecgtools.parsers.cesm import parse_cesm_timeseries\n",
    "\n",
    "path = \"/glade/campaign/cesm/development/wawg/WACCM6-MA-1deg/b.e21.BWSSP245.f09_g17.release-cesm2.1.3.WACCM-MA-1deg.001/atm/proc/tseries/month_1/b.e21.BWSSP245.f09_g17.release-cesm2.1.3.WACCM-MA-1deg.001.cam.h0.ACTREL.206501-209912.nc\"\n",
    "\n",
    "parse_cesm_timeseries(path)"
   ]
  },
  {
   "cell_type": "code",
   "execution_count": null,
   "id": "1ff9112a-bcc6-4815-894d-53c2b43fe27c",
   "metadata": {},
   "outputs": [],
   "source": []
  }
 ],
 "metadata": {
  "kernelspec": {
   "display_name": "Python [conda env:miniconda3-default]",
   "language": "python",
   "name": "conda-env-miniconda3-default-py"
  },
  "language_info": {
   "codemirror_mode": {
    "name": "ipython",
    "version": 3
   },
   "file_extension": ".py",
   "mimetype": "text/x-python",
   "name": "python",
   "nbconvert_exporter": "python",
   "pygments_lexer": "ipython3",
   "version": "3.9.5"
  }
 },
 "nbformat": 4,
 "nbformat_minor": 5
}
